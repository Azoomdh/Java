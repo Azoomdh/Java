{
 "cells": [
  {
   "cell_type": "markdown",
   "id": "bab0da29",
   "metadata": {
    "vscode": {
     "languageId": "java"
    }
   },
   "source": [
    "# v1"
   ]
  },
  {
   "cell_type": "code",
   "execution_count": null,
   "metadata": {
    "vscode": {
     "languageId": "java"
    }
   },
   "outputs": [],
   "source": [
    "public class Thread {\n",
    "\n",
    "    @Autowired\n",
    "    private UserDataRepo userdataRepo;\n",
    "\n",
    "    @Autowired\n",
    "    private FunctionQueue functionQueue;\n",
    "\n",
    "    public void run(){\n",
    "        while(true){\n",
    "            Function ham1 = this.functionQueue.getBottom();\n",
    "            ham1.excute();\n",
    "        }\n",
    "    }\n",
    "\n",
    "    public void ham1(){\n",
    "        // chay trong ham 1\n",
    "\n",
    "        @call_hàm_bên_ngoài_tạm_thời_bỏ_qua(id =1) \n",
    "        User user = ()-> {\n",
    "            user = this.userRepo.findById(id);\n",
    "            // set thuộc tính user\n",
    "            return user;\n",
    "        }\n",
    "\n",
    "        @chỉ_chạy_khi_đã_nhận_được_kết_quả_từ_các_id(1) : {\n",
    "            //...\n",
    "        }\n",
    "\n",
    "        @chỉ_chạy_khi_đã_nhận_được_kết_quả_từ_các_id(null) {\n",
    "            // không cần vẫn chạy được\n",
    "            // ...\n",
    "        } \n",
    "    }\n",
    "\n",
    "    public void ham2(){\n",
    "        // chạy trong ham 2\n",
    "\n",
    "        @call_hàm_bên_ngoài \n",
    "        // xóa ham2.this khỏi functionQueue\n",
    "        User user1 = ()->{\n",
    "            user = this.userRepo.findById(id);\n",
    "            //...\n",
    "\n",
    "            // khi nào xong thì đẩy dòng bên dưới vào đỉnh của queue\n",
    "            this.functionQueue.addTop(ham2.this, parameter: {user, } );\n",
    "        }\n",
    "        // chạy trong ham2\n",
    "\n",
    "        @call_hàm_bên_ngoài \n",
    "        // xóa ham2.this khỏi functionQueue\n",
    "        User user1 = ()->{\n",
    "            user = this.userRepo.findById(id);\n",
    "            //...\n",
    "\n",
    "            // khi nào xong thì đẩy dòng bên dưới vào đỉnh của queue\n",
    "            this.functionQueue.addTop(ham2.this, parameter: {user, } );\n",
    "        }\n",
    "        // chạy trong ham2\n",
    "\n",
    "    }\n",
    "}\n"
   ]
  },
  {
   "cell_type": "markdown",
   "id": "db32c046",
   "metadata": {},
   "source": [
    "# v2"
   ]
  },
  {
   "cell_type": "code",
   "execution_count": null,
   "id": "63b3771b",
   "metadata": {
    "vscode": {
     "languageId": "java"
    }
   },
   "outputs": [],
   "source": [
    "class TienTrinh {\n",
    "    DuLieu dulieu1;\n",
    "\n",
    "    public Lenh ngheLenh(){\n",
    "        // nghe lệnh\n",
    "        return lenh1;\n",
    "    }\n",
    "\n",
    "    public void thucHienLenh(Lenh lenh1){\n",
    "        // ...\n",
    "        return;\n",
    "    }\n",
    "\n",
    "    public void run(){\n",
    "        while(true) {\n",
    "            Lenh lenh1 = this.ngheLenh();\n",
    "            this.thucHienLenh(lenh1);\n",
    "        }\n",
    "    }\n",
    "}"
   ]
  },
  {
   "cell_type": "markdown",
   "id": "8a267d74",
   "metadata": {},
   "source": [
    "# v3"
   ]
  },
  {
   "cell_type": "code",
   "execution_count": null,
   "id": "0fa480ea",
   "metadata": {
    "vscode": {
     "languageId": "java"
    }
   },
   "outputs": [],
   "source": [
    "class Server {\n",
    "\n",
    "    @Autowired\n",
    "    Queue<Lenh> hangDoiLenh;\n",
    "\n",
    "    public Lenh ngheLenh(){\n",
    "        // nghe lệnh\n",
    "        return lenh1;\n",
    "    }\n",
    "\n",
    "    public void duaVaoHangDoi(Lenh lenh1){\n",
    "        // ...\n",
    "        hangDoiLenh.addTop(lenh1);\n",
    "    }\n",
    "\n",
    "    public void run(){\n",
    "        while(true){\n",
    "            Lenh lenh1 = this.ngheLenh();\n",
    "            this.duaVaoHangDoi(lenh1);\n",
    "        }\n",
    "    }\n",
    "\n",
    "}\n"
   ]
  },
  {
   "cell_type": "code",
   "execution_count": null,
   "id": "125e9d8d",
   "metadata": {
    "vscode": {
     "languageId": "java"
    }
   },
   "outputs": [],
   "source": [
    "class Lenh {\n",
    "    Integer idUser;\n",
    "    Integer idTienTrinh;\n",
    "    String loaiLenh;\n",
    "}"
   ]
  },
  {
   "cell_type": "code",
   "execution_count": null,
   "id": "70926db5",
   "metadata": {
    "vscode": {
     "languageId": "java"
    }
   },
   "outputs": [],
   "source": [
    "class BoThucHienLenh {\n",
    "\n",
    "    @Autowired\n",
    "    Queue<Lenh> hangDoiLenh;\n",
    "\n",
    "    UserDataRepo userdataRepo;\n",
    "\n",
    "    UserRepo userRepo;\n",
    "\n",
    "    public void run(){\n",
    "        while(true){\n",
    "            Lenh lenh1 = hangDoiLenh.getBottom();\n",
    "            this.excute(lenh1);\n",
    "        }\n",
    "    }\n",
    "}"
   ]
  },
  {
   "cell_type": "markdown",
   "id": "6b744a9e",
   "metadata": {},
   "source": [
    "// nội dung lệnh 1"
   ]
  },
  {
   "cell_type": "code",
   "execution_count": null,
   "id": "ffa88166",
   "metadata": {
    "vscode": {
     "languageId": "java"
    }
   },
   "outputs": [],
   "source": [
    "public void ham2(){\n",
    "    // chạy trong ham 2\n",
    "\n",
    "    @call_hàm_bên_ngoài \n",
    "    // xóa ham2.this khỏi functionQueue\n",
    "    User user1 = ()->{\n",
    "        user = this.userRepo.findById(id);\n",
    "        //...\n",
    "\n",
    "        // khi nào xong thì đẩy dòng bên dưới vào đỉnh của queue\n",
    "        this.functionQueue.addTop(ham2.this, parameter: {user, } );\n",
    "    }\n",
    "    // chạy trong ham2 \n",
    "\n",
    "    @call_hàm_bên_ngoài \n",
    "    // xóa ham2.this khỏi functionQueue\n",
    "    User user1 = ()->{\n",
    "        user = this.userRepo.findById(id);\n",
    "        //...\n",
    "\n",
    "        // khi nào xong thì đẩy dòng bên dưới vào đỉnh của queue\n",
    "        this.functionQueue.addTop(ham2.this, parameter: {user, } );\n",
    "    }\n",
    "    // chạy trong ham2\n",
    "\n",
    "}"
   ]
  },
  {
   "cell_type": "code",
   "execution_count": null,
   "id": "dfa6fc95",
   "metadata": {
    "vscode": {
     "languageId": "java"
    }
   },
   "outputs": [],
   "source": [
    "// không biến thành exe trong khi chạy\n",
    "\n",
    "public void ham2(){\n",
    "    ham2_1();\n",
    "\n",
    "    // @call_hàm_bên_ngoài\n",
    "    ham2_2();\n",
    "\n",
    "    ham2_3();\n",
    "\n",
    "    // @call_hàm_bên_ngoài\n",
    "    ham2_4();\n",
    "\n",
    "    ham2_5();\n",
    "}"
   ]
  }
 ],
 "metadata": {
  "language_info": {
   "name": "python"
  }
 },
 "nbformat": 4,
 "nbformat_minor": 5
}
